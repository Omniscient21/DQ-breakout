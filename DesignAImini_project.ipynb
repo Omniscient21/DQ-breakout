{
  "cells": [
    {
      "cell_type": "code",
      "execution_count": null,
      "id": "f88bf2dd",
      "metadata": {
        "colab": {
          "base_uri": "https://localhost:8080/"
        },
        "id": "f88bf2dd",
        "outputId": "d78570d8-d53e-4b61-c704-6fa29ed54e34"
      },
      "outputs": [],
      "source": [
        "#!pip install gym \n",
        "#!pip install ale-py \n",
        "#!pip install gym[atari,accept-rom-license]==0.21.0"
      ]
    },
    {
      "cell_type": "code",
      "execution_count": 1,
      "id": "a5841e9d",
      "metadata": {
        "id": "a5841e9d"
      },
      "outputs": [
        {
          "name": "stdout",
          "output_type": "stream",
          "text": [
            "False\n",
            "0\n"
          ]
        },
        {
          "ename": "AssertionError",
          "evalue": "Torch not compiled with CUDA enabled",
          "output_type": "error",
          "traceback": [
            "\u001b[0;31m---------------------------------------------------------------------------\u001b[0m",
            "\u001b[0;31mAssertionError\u001b[0m                            Traceback (most recent call last)",
            "\u001b[1;32m/Users/alvinanestrand/Documents/GitHub/DAT410-project-DQ-breakout/DesignAImini_project.ipynb Cell 2\u001b[0m in \u001b[0;36m<cell line: 22>\u001b[0;34m()\u001b[0m\n\u001b[1;32m     <a href='vscode-notebook-cell:/Users/alvinanestrand/Documents/GitHub/DAT410-project-DQ-breakout/DesignAImini_project.ipynb#W1sZmlsZQ%3D%3D?line=19'>20</a>\u001b[0m \u001b[39mprint\u001b[39m(torch\u001b[39m.\u001b[39mcuda\u001b[39m.\u001b[39mis_available())\n\u001b[1;32m     <a href='vscode-notebook-cell:/Users/alvinanestrand/Documents/GitHub/DAT410-project-DQ-breakout/DesignAImini_project.ipynb#W1sZmlsZQ%3D%3D?line=20'>21</a>\u001b[0m \u001b[39mprint\u001b[39m(torch\u001b[39m.\u001b[39mcuda\u001b[39m.\u001b[39mdevice_count())\n\u001b[0;32m---> <a href='vscode-notebook-cell:/Users/alvinanestrand/Documents/GitHub/DAT410-project-DQ-breakout/DesignAImini_project.ipynb#W1sZmlsZQ%3D%3D?line=21'>22</a>\u001b[0m \u001b[39mprint\u001b[39m(torch\u001b[39m.\u001b[39;49mcuda\u001b[39m.\u001b[39;49mcurrent_device())\n\u001b[1;32m     <a href='vscode-notebook-cell:/Users/alvinanestrand/Documents/GitHub/DAT410-project-DQ-breakout/DesignAImini_project.ipynb#W1sZmlsZQ%3D%3D?line=22'>23</a>\u001b[0m \u001b[39mprint\u001b[39m(torch\u001b[39m.\u001b[39mcuda\u001b[39m.\u001b[39mget_device_name(\u001b[39m0\u001b[39m))\n",
            "File \u001b[0;32m~/opt/anaconda3/lib/python3.8/site-packages/torch/cuda/__init__.py:481\u001b[0m, in \u001b[0;36mcurrent_device\u001b[0;34m()\u001b[0m\n\u001b[1;32m    479\u001b[0m \u001b[39mdef\u001b[39;00m \u001b[39mcurrent_device\u001b[39m() \u001b[39m-\u001b[39m\u001b[39m>\u001b[39m \u001b[39mint\u001b[39m:\n\u001b[1;32m    480\u001b[0m     \u001b[39mr\u001b[39m\u001b[39m\"\"\"Returns the index of a currently selected device.\"\"\"\u001b[39;00m\n\u001b[0;32m--> 481\u001b[0m     _lazy_init()\n\u001b[1;32m    482\u001b[0m     \u001b[39mreturn\u001b[39;00m torch\u001b[39m.\u001b[39m_C\u001b[39m.\u001b[39m_cuda_getDevice()\n",
            "File \u001b[0;32m~/opt/anaconda3/lib/python3.8/site-packages/torch/cuda/__init__.py:210\u001b[0m, in \u001b[0;36m_lazy_init\u001b[0;34m()\u001b[0m\n\u001b[1;32m    206\u001b[0m     \u001b[39mraise\u001b[39;00m \u001b[39mRuntimeError\u001b[39;00m(\n\u001b[1;32m    207\u001b[0m         \u001b[39m\"\u001b[39m\u001b[39mCannot re-initialize CUDA in forked subprocess. To use CUDA with \u001b[39m\u001b[39m\"\u001b[39m\n\u001b[1;32m    208\u001b[0m         \u001b[39m\"\u001b[39m\u001b[39mmultiprocessing, you must use the \u001b[39m\u001b[39m'\u001b[39m\u001b[39mspawn\u001b[39m\u001b[39m'\u001b[39m\u001b[39m start method\u001b[39m\u001b[39m\"\u001b[39m)\n\u001b[1;32m    209\u001b[0m \u001b[39mif\u001b[39;00m \u001b[39mnot\u001b[39;00m \u001b[39mhasattr\u001b[39m(torch\u001b[39m.\u001b[39m_C, \u001b[39m'\u001b[39m\u001b[39m_cuda_getDeviceCount\u001b[39m\u001b[39m'\u001b[39m):\n\u001b[0;32m--> 210\u001b[0m     \u001b[39mraise\u001b[39;00m \u001b[39mAssertionError\u001b[39;00m(\u001b[39m\"\u001b[39m\u001b[39mTorch not compiled with CUDA enabled\u001b[39m\u001b[39m\"\u001b[39m)\n\u001b[1;32m    211\u001b[0m \u001b[39mif\u001b[39;00m _cudart \u001b[39mis\u001b[39;00m \u001b[39mNone\u001b[39;00m:\n\u001b[1;32m    212\u001b[0m     \u001b[39mraise\u001b[39;00m \u001b[39mAssertionError\u001b[39;00m(\n\u001b[1;32m    213\u001b[0m         \u001b[39m\"\u001b[39m\u001b[39mlibcudart functions unavailable. It looks like you have a broken build?\u001b[39m\u001b[39m\"\u001b[39m)\n",
            "\u001b[0;31mAssertionError\u001b[0m: Torch not compiled with CUDA enabled"
          ]
        }
      ],
      "source": [
        "import torch\n",
        "import numpy as np\n",
        "import matplotlib.pyplot as plt\n",
        "from PIL import Image \n",
        "from tqdm.notebook import tqdm\n",
        "import random\n",
        "import gym\n",
        "\n",
        "import torch.nn as nn\n",
        "import torch.nn.functional as F\n",
        "\n",
        "\n",
        "import torchvision.transforms as T\n",
        "\n",
        "\n",
        "\n",
        "# set device\n",
        "# test gpu working \n",
        "device = torch.device(\"cuda\" if torch.cuda.is_available() else \"cpu\")\n",
        "print(torch.cuda.is_available())\n",
        "print(torch.cuda.device_count())\n",
        "print(torch.cuda.current_device())\n",
        "print(torch.cuda.get_device_name(0))"
      ]
    },
    {
      "cell_type": "code",
      "execution_count": 1,
      "id": "ffe06ddd",
      "metadata": {
        "colab": {
          "base_uri": "https://localhost:8080/",
          "height": 215
        },
        "id": "ffe06ddd",
        "outputId": "3cc1557f-9427-4daf-f0bf-45681fb7ba7e"
      },
      "outputs": [
        {
          "ename": "NameError",
          "evalue": "ignored",
          "output_type": "error",
          "traceback": [
            "\u001b[0;31m---------------------------------------------------------------------------\u001b[0m",
            "\u001b[0;31mNameError\u001b[0m                                 Traceback (most recent call last)",
            "\u001b[0;32m<ipython-input-1-c96b94aeeb28>\u001b[0m in \u001b[0;36m<module>\u001b[0;34m\u001b[0m\n\u001b[1;32m      2\u001b[0m \u001b[0;31m# Breakout-v4\u001b[0m\u001b[0;34m\u001b[0m\u001b[0;34m\u001b[0m\u001b[0m\n\u001b[1;32m      3\u001b[0m \u001b[0;31m# BreakoutDeterministic-v4\u001b[0m\u001b[0;34m\u001b[0m\u001b[0;34m\u001b[0m\u001b[0m\n\u001b[0;32m----> 4\u001b[0;31m \u001b[0menviroment\u001b[0m \u001b[0;34m=\u001b[0m \u001b[0mgym\u001b[0m\u001b[0;34m.\u001b[0m\u001b[0mmake\u001b[0m\u001b[0;34m(\u001b[0m\u001b[0;34m\"ALE/Breakout-v5\"\u001b[0m\u001b[0;34m,\u001b[0m \u001b[0mrender_mode\u001b[0m\u001b[0;34m=\u001b[0m\u001b[0;34m\"rgb_array\"\u001b[0m\u001b[0;34m)\u001b[0m\u001b[0;34m\u001b[0m\u001b[0;34m\u001b[0m\u001b[0m\n\u001b[0m",
            "\u001b[0;31mNameError\u001b[0m: name 'gym' is not defined"
          ]
        }
      ],
      "source": [
        "# ALE/Breakout-v5\n",
        "# Breakout-v4 \n",
        "# BreakoutDeterministic-v4\n",
        "env = gym.make(\"ALE/Breakout-v5\", render_mode=\"rgb_array\")"
      ]
    },
    {
      "cell_type": "code",
      "execution_count": null,
      "id": "76003fe4",
      "metadata": {
        "id": "76003fe4"
      },
      "outputs": [],
      "source": [
        "env.reset()\n",
        "terminated = False\n",
        "last_img = None\n",
        "while not terminated:\n",
        "    env.render(mode=\"rgb_array\")\n",
        "    action = env.action_space.sample()\n",
        "    observation, reward, terminated, info = env.step(action) # truncated is not returned here, probably a version thing\n",
        "    last_img = observation\n",
        "    if terminated:\n",
        "       env.reset()\n",
        "    \n",
        "env.reset()\n",
        "env.close()\n",
        "    "
      ]
    },
    {
      "cell_type": "code",
      "execution_count": null,
      "id": "6ef54cab",
      "metadata": {
        "colab": {
          "base_uri": "https://localhost:8080/",
          "height": 290
        },
        "id": "6ef54cab",
        "outputId": "4504f015-2e3e-4be4-e65a-43618cc9cbd1",
        "scrolled": true
      },
      "outputs": [
        {
          "data": {
            "image/png": "[encoded data removed]",
            "text/plain": [
              "<Figure size 432x288 with 1 Axes>"
            ]
          },
          "metadata": {
            "needs_background": "light"
          },
          "output_type": "display_data"
        }
      ],
      "source": [
        "plt.imshow(last_img)\n",
        "plt.show()"
      ]
    },
    {
      "cell_type": "markdown",
      "id": "93ee8301",
      "metadata": {
        "id": "93ee8301"
      },
      "source": [
        "## Preprocessing\n",
        "\n",
        "84x84x1 as used in paper \n",
        "https://arxiv.org/pdf/1312.5602.pdf \n",
        "\n",
        "4.1 Preprocessing and Model Architecture\n",
        "\n",
        "The raw frames are preprocessed by first converting their RGB representation\n",
        "to gray-scale and down-sampling it to a 110×84 image.\n",
        "\n",
        "The final input representation is obtained by\n",
        "cropping an 84 × 84 region of the image that roughly captures the playing area\n",
        "\n",
        " note: tensor has channel as first dimension"
      ]
    },
    {
      "cell_type": "code",
      "execution_count": null,
      "id": "587ae6d5",
      "metadata": {
        "id": "587ae6d5"
      },
      "outputs": [],
      "source": [
        "from torchvision.transforms import Compose, ToTensor, Normalize, Grayscale, Resize\n",
        "# No samples for calculate mean std for normalisaiton - skip\n",
        "class Preprocess():\n",
        "    def __init__(self, target_width = 84, target_height = 84):\n",
        "        self.width = target_width\n",
        "        self.height = target_height\n",
        "        \n",
        "        # transform\n",
        "        self.transform = T.Compose([\n",
        "            ToTensor(),\n",
        "            Grayscale(),\n",
        "            Resize((110,84))\n",
        "        ])\n",
        "    \n",
        "    def process(self,image):\n",
        "        #return self.transform(image)\n",
        "        # crop to play area not clear from paper exactly which area is considered\n",
        "        # tested different values\n",
        "        return T.functional.crop(self.transform(image),18,0,self.height,self.width)"
      ]
    },
    {
      "cell_type": "markdown",
      "id": "d63cef60",
      "metadata": {
        "id": "d63cef60"
      },
      "source": [
        "$\\phi$ function stacks 4 images to create a state"
      ]
    },
    {
      "cell_type": "code",
      "execution_count": null,
      "id": "6d96c97d",
      "metadata": {
        "colab": {
          "base_uri": "https://localhost:8080/"
        },
        "id": "6d96c97d",
        "outputId": "bce470fb-b305-4689-d94c-e2c039115a43"
      },
      "outputs": [
        {
          "name": "stdout",
          "output_type": "stream",
          "text": [
            "torch.Size([1, 84, 84])\n"
          ]
        }
      ],
      "source": [
        "test = Preprocess()\n",
        "proc_img = test.process(last_img)\n",
        "print(proc_img.shape)"
      ]
    },
    {
      "cell_type": "code",
      "execution_count": null,
      "id": "2b03d115",
      "metadata": {
        "colab": {
          "base_uri": "https://localhost:8080/",
          "height": 306
        },
        "id": "2b03d115",
        "outputId": "de038caa-0ba6-4d09-d6d2-5a441f89cdcf",
        "scrolled": true
      },
      "outputs": [
        {
          "data": {
            "text/plain": [
              "<matplotlib.image.AxesImage at 0x7f4ce2e74a00>"
            ]
          },
          "execution_count": 33,
          "metadata": {},
          "output_type": "execute_result"
        },
        {
          "data": {
            "image/png": "[encoded data removed]",
            "text/plain": [
              "<Figure size 432x288 with 1 Axes>"
            ]
          },
          "metadata": {
            "needs_background": "light"
          },
          "output_type": "display_data"
        }
      ],
      "source": [
        "# permute to get correct shape for imshow, imshow expects (height, width, channels)\n",
        "plt.imshow(proc_img.permute(1, 2, 0),cmap='gray')"
      ]
    },
    {
      "cell_type": "markdown",
      "id": "6469e2d4",
      "metadata": {
        "id": "6469e2d4"
      },
      "source": [
        "### Architecture\n",
        "Based on https://www.nature.com/articles/nature14236\n",
        "\n",
        "The input to the neural network consists of an 84x84x4 image produced by the preprocessing map w. \n",
        "\n",
        "The first hidden layer convolves 32 filters of 8x8 with stride 4 with the\n",
        "input image and applies a rectifier nonlinearity. \n",
        "\n",
        "The second hidden layer convolves 64 filters of 4x4 with stride 2, again followed by a rectifier nonlinearity.\n",
        "\n",
        "This is followed by a third convolutional layer that convolves 64 filters of 3x3 with\n",
        "stride 1 followed by a rectifier. \n",
        "\n",
        "The final hidden layer is fully-connected and consists of 512 rectifier units. The output layer is a fully-connected linear layer with a single output for each valid action. \n",
        "\n",
        "##### We have 4 valid actions!"
      ]
    },
    {
      "cell_type": "code",
      "execution_count": null,
      "id": "ef15b7f0",
      "metadata": {},
      "outputs": [],
      "source": [
        "# For transfer learning, import a pretrained model and freeze the weights\n",
        "# https://pytorch.org/tutorials/beginner/finetuning_torchvision_models_tutorial.html"
      ]
    },
    {
      "cell_type": "code",
      "execution_count": null,
      "id": "cf43a44c",
      "metadata": {
        "id": "cf43a44c"
      },
      "outputs": [],
      "source": [
        "import keras\n",
        "from keras.models import Sequential\n",
        "\n",
        "class DeepQ(nn.Module):\n",
        "    def __init__(self, input_shape, num_actions):\n",
        "        super(DeepQ, self).__init__()\n",
        "        self.input_shape = input_shape\n",
        "        self.num_actions = num_actions\n",
        "\n",
        "        # initializer, needed for the optimizer\n",
        "        # set a seeder for reproducibility\n",
        "        self.initializer = keras.initializers.VarianceScaling(scale=2.0, seed=0)\n",
        "        \n",
        "        # convolutional layers\n",
        "        self.model = Sequential()\n",
        "        self.model.add(keras.layers.Conv2D(32, (8, 8), strides=(4, 4), activation='relu', input_shape=input_shape, kernel_initializer=self.initializer))\n",
        "        self.model.add(keras.layers.Conv2D(64, (4, 4), strides=(2, 2), activation='relu', kernel_initializer=self.initializer))\n",
        "        self.model.add(keras.layers.Conv2D(64, (3, 3), strides=(1, 1), activation='relu', kernel_initializer=self.initializer))\n",
        "        self.model.add(keras.layers.Flatten())\n",
        "\n",
        "        # problem: expected shape=(None, 1, 210, 160, 3), found shape=(4, 210, 160, 3)\n",
        "        # solution: add a batch dimension to the input\n",
        "        self.model.add(keras.layers.Reshape((1, 210, 160, 3)))\n",
        "        self.model.add(keras.layers.Dense(512, activation='relu', kernel_initializer=self.initializer))\n",
        "        self.model.add(keras.layers.Dense(num_actions, activation='linear', kernel_initializer=self.initializer))\n",
        "\n",
        "        # set optimizer, clipnorm is used to prevent exploding gradients\n",
        "        # Adam is a good default optimizer, it is a combination of RMSProp and SGD\n",
        "        self.optimizer = keras.optimizers.Adam(learning_rate=0.00025, clipnorm=1.0)\n",
        "\n",
        "        # TODO: can use transfer learning to load weights from a pretrained model\n",
        "        #self.model.load_weights('model.h5') # or whatever the path to the weights is\n",
        "\n",
        "    def get_q_values(self, state):\n",
        "        return self.model(state)\n",
        "    \n",
        "    def sample_action(self, state, epsilon): # epsilon greedy action sampling\n",
        "        if random.random() < epsilon:\n",
        "            return random.randint(0, self.num_actions - 1)\n",
        "        else:\n",
        "            with torch.no_grad(): # no need to track gradients for evaluation\n",
        "                return self.get_q_values(state).argmax().item()\n",
        "    \n",
        "    def forward(self, x): # forward pass\n",
        "        return self.model(x)\n",
        "    "
      ]
    },
    {
      "cell_type": "code",
      "execution_count": null,
      "id": "1fc646e1",
      "metadata": {
        "id": "1fc646e1"
      },
      "outputs": [],
      "source": [
        "# Shape becomes [None, 1, 84, 84] for proc_img\n",
        "test = DeepQ(last_img,env.action_space.n)\n"
      ]
    },
    {
      "attachments": {},
      "cell_type": "markdown",
      "id": "1935ec24",
      "metadata": {},
      "source": [
        "## Suggested by copilot"
      ]
    },
    {
      "cell_type": "code",
      "execution_count": null,
      "id": "0f89f910",
      "metadata": {
        "id": "0f89f910"
      },
      "outputs": [],
      "source": [
        "# train using the gym environment\n",
        "\n",
        "# hyperparameters\n",
        "num_episodes = 1000\n",
        "batch_size = 32\n",
        "gamma = 0.99\n",
        "learning_rate = 0.00025\n",
        "target_update = 1000\n",
        "replay_memory_size = 100 # 1000000\n",
        "epsilon_start = 1.0\n",
        "epsilon_final = 0.01\n",
        "epsilon_decay = 30000\n",
        "epsilon_by_frame = lambda frame_idx: epsilon_final + (epsilon_start - epsilon_final) * np.exp(-1. * frame_idx / epsilon_decay)\n",
        "\n",
        "# initialize the model\n",
        "input_shape = last_img.shape\n",
        "num_actions = env.action_space.n\n",
        "model = DeepQ(input_shape, num_actions)\n",
        "target_model = DeepQ(input_shape, num_actions)\n",
        "target_model.load_state_dict(model.state_dict())\n",
        "target_model.eval()\n",
        "\n",
        "\n",
        "# initialize the replay memory\n",
        "replay_memory = []\n",
        "\n",
        "# initialize the frame and episode counters\n",
        "frame_idx = 0\n",
        "rewards = []\n",
        "losses = []\n",
        "all_rewards = []\n",
        "episode_reward = 0\n",
        "\n",
        "# initialize the environment\n",
        "env.reset()\n",
        "last_screen = env.render(mode=\"rgb_array\")\n",
        "current_screen = env.render(mode=\"rgb_array\")\n",
        "state = current_screen - last_screen\n",
        "last_screen = current_screen"
      ]
    },
    {
      "cell_type": "code",
      "execution_count": null,
      "id": "b8077f6d",
      "metadata": {
        "id": "b8077f6d"
      },
      "outputs": [],
      "source": [
        "# start training\n",
        "from itertools import count\n",
        "from collections import namedtuple\n",
        "# Transition is used to store the experience in the replay memory\n",
        "# replay memory is needed for experience replay, which is used to decorrelate the samples\n",
        "Transition = namedtuple('Transition', ('state', 'action', 'reward', 'next_state'))\n",
        "\n",
        "for episode in range(num_episodes):\n",
        "    for t in count():\n",
        "        # select epsilon-greedy action\n",
        "        epsilon = epsilon_by_frame(frame_idx)\n",
        "        # the model is keras, so we need to convert the state to a tensor\n",
        "        state = torch.FloatTensor(state).to(device)\n",
        "        action = model.sample_action(torch.FloatTensor(state).to(device), epsilon)\n",
        "        \n",
        "        # execute action\n",
        "        _, reward, done, _ = env.step(action)\n",
        "        episode_reward += reward\n",
        "        \n",
        "        # observe new state\n",
        "        last_screen = current_screen\n",
        "        current_screen = env.render(mode=\"rgb_array\")\n",
        "        if not done:\n",
        "            next_state = current_screen - last_screen\n",
        "        else:\n",
        "            next_state = None\n",
        "        \n",
        "        # store the transition in the replay memory\n",
        "        replay_memory.append(Transition(state, action, reward, next_state))\n",
        "        replay_memory = replay_memory[-replay_memory_size:] # keep only the last 1000000 transitions\n",
        "        \n",
        "        # update the state\n",
        "        state = next_state\n",
        "        \n",
        "        # optimize the model\n",
        "        if len(replay_memory) > batch_size:\n",
        "            # sample a batch from the replay memory\n",
        "            transitions = random.sample(replay_memory, batch_size)\n",
        "            batch = Transition(*zip(*transitions))\n",
        "            \n",
        "            # compute a mask of non-final states and concatenate the batch elements\n",
        "            non_final_mask = torch.tensor(tuple(map(lambda s: s is not None, batch.next_state)), device=device, dtype=torch.bool)\n",
        "            non_final_next_states = torch.FloatTensor([s for s in batch.next_state if s is not None]).to(device)\n",
        "            state_batch = torch.FloatTensor(batch.state).to(device)\n",
        "            action_batch = torch.LongTensor(batch.action).to(device)\n",
        "            reward_batch = torch.FloatTensor(batch.reward).to(device)\n",
        "            \n",
        "            # compute Q(s_t, a)\n",
        "            state_action_values = model(state_batch).gather(1, action_batch.unsqueeze(1))\n",
        "            \n",
        "            # compute V(s_{t+1}) for all next states\n",
        "            next_state_values = torch.zeros(batch_size, device=device)\n",
        "            next_state_values[non_final_mask] = target_model(non_final_next_states).max(1)[0].detach()\n",
        "            \n",
        "            # compute the expected Q values\n",
        "            expected_state_action_values = (next_state_values * gamma) + reward_batch\n",
        "            \n",
        "            # compute loss\n",
        "            loss = F.smooth_l1_loss(state_action_values, expected_state_action_values.unsqueeze(1))\n",
        "            \n",
        "            # optimize the model\n",
        "            model.optimizer.zero_grad()\n",
        "            loss.backward()\n",
        "            for param in model.parameters():\n",
        "                param.grad.data.clamp_(-1, 1)\n",
        "            model.optimizer.step()\n",
        "\n",
        "        if done:\n",
        "            break\n",
        "\n",
        "        frame_idx += 1\n",
        "\n",
        "    # update the target network\n",
        "    if episode % target_update == 0:\n",
        "        target_model.load_state_dict(model.state_dict())\n",
        "\n",
        "    # log results\n",
        "    rewards.append(episode_reward)\n",
        "    losses.append(loss.item())\n",
        "    mean_100ep_reward = round(np.mean(rewards[-100:]), 1)\n",
        "    mean_100ep_loss = round(np.mean(losses[-100:]), 5)\n",
        "    print('Episode {}\\tLast reward: {:.2f}\\tAverage reward (last 100 episodes): {:.2f}\\tLoss: {:.5f}'.format(episode, episode_reward, mean_100ep_reward, mean_100ep_loss))"
      ]
    },
    {
      "cell_type": "code",
      "execution_count": null,
      "id": "b533bb66",
      "metadata": {},
      "outputs": [],
      "source": [
        "# Delete the model from memory to avoid errors\n",
        "del model"
      ]
    }
  ],
  "metadata": {
    "accelerator": "GPU",
    "colab": {
      "provenance": []
    },
    "gpuClass": "standard",
    "kernelspec": {
      "display_name": "Python 3 (ipykernel)",
      "language": "python",
      "name": "python3"
    },
    "language_info": {
      "codemirror_mode": {
        "name": "ipython",
        "version": 3
      },
      "file_extension": ".py",
      "mimetype": "text/x-python",
      "name": "python",
      "nbconvert_exporter": "python",
      "pygments_lexer": "ipython3",
      "version": "3.8.3"
    }
  },
  "nbformat": 4,
  "nbformat_minor": 5
}
