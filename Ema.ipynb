{
 "cells": [
  {
   "cell_type": "code",
   "execution_count": 2,
   "id": "a5841e9d",
   "metadata": {},
   "outputs": [
    {
     "name": "stdout",
     "output_type": "stream",
     "text": [
      "True\n",
      "1\n",
      "0\n",
      "NVIDIA GeForce RTX 3080\n"
     ]
    }
   ],
   "source": [
    "import torch\n",
    "import numpy as np\n",
    "import matplotlib.pyplot as plt\n",
    "from PIL import Image \n",
    "from tqdm.notebook import tqdm\n",
    "import random\n",
    "import gym\n",
    "\n",
    "import torch.nn as nn\n",
    "import torch.nn.functional as F\n",
    "\n",
    "\n",
    "import torchvision.transforms as T\n",
    "\n",
    "\n",
    "\n",
    "# set device\n",
    "# test gpu working \n",
    "device = torch.device(\"cuda\" if torch.cuda.is_available() else \"cpu\")\n",
    "print(torch.cuda.is_available())\n",
    "print(torch.cuda.device_count())\n",
    "print(torch.cuda.current_device())\n",
    "print(torch.cuda.get_device_name(0))"
   ]
  },
  {
   "cell_type": "code",
   "execution_count": 151,
   "id": "53eeb610",
   "metadata": {},
   "outputs": [],
   "source": [
    "#!pip install gym \n",
    "#!pip install ale-py \n",
    "#!pip install gym[atari,accept-rom-license]==0.21.0"
   ]
  },
  {
   "cell_type": "code",
   "execution_count": 152,
   "id": "ffe06ddd",
   "metadata": {},
   "outputs": [],
   "source": [
    "# ALE/Breakout-v5\n",
    "# Breakout-v4 \n",
    "# BreakoutDeterministic-v4\n",
    "enviroment = gym.make(\"BreakoutDeterministic-v4\", render_mode=\"rgb_array\")"
   ]
  },
  {
   "cell_type": "code",
   "execution_count": 153,
   "id": "76003fe4",
   "metadata": {},
   "outputs": [
    {
     "data": {
      "text/plain": [
       "(array([[[0, 0, 0],\n",
       "         [0, 0, 0],\n",
       "         [0, 0, 0],\n",
       "         ...,\n",
       "         [0, 0, 0],\n",
       "         [0, 0, 0],\n",
       "         [0, 0, 0]],\n",
       " \n",
       "        [[0, 0, 0],\n",
       "         [0, 0, 0],\n",
       "         [0, 0, 0],\n",
       "         ...,\n",
       "         [0, 0, 0],\n",
       "         [0, 0, 0],\n",
       "         [0, 0, 0]],\n",
       " \n",
       "        [[0, 0, 0],\n",
       "         [0, 0, 0],\n",
       "         [0, 0, 0],\n",
       "         ...,\n",
       "         [0, 0, 0],\n",
       "         [0, 0, 0],\n",
       "         [0, 0, 0]],\n",
       " \n",
       "        ...,\n",
       " \n",
       "        [[0, 0, 0],\n",
       "         [0, 0, 0],\n",
       "         [0, 0, 0],\n",
       "         ...,\n",
       "         [0, 0, 0],\n",
       "         [0, 0, 0],\n",
       "         [0, 0, 0]],\n",
       " \n",
       "        [[0, 0, 0],\n",
       "         [0, 0, 0],\n",
       "         [0, 0, 0],\n",
       "         ...,\n",
       "         [0, 0, 0],\n",
       "         [0, 0, 0],\n",
       "         [0, 0, 0]],\n",
       " \n",
       "        [[0, 0, 0],\n",
       "         [0, 0, 0],\n",
       "         [0, 0, 0],\n",
       "         ...,\n",
       "         [0, 0, 0],\n",
       "         [0, 0, 0],\n",
       "         [0, 0, 0]]], dtype=uint8),\n",
       " {'lives': 5, 'episode_frame_number': 0, 'frame_number': 509})"
      ]
     },
     "execution_count": 153,
     "metadata": {},
     "output_type": "execute_result"
    }
   ],
   "source": [
    "enviroment.reset()\n",
    "terminated = False\n",
    "last_img = None\n",
    "while not terminated:\n",
    "    enviroment.render()\n",
    "    action = enviroment.action_space.sample()\n",
    "    observation, reward, terminated, truncated, info = enviroment.step(action)\n",
    "    last_img = observation\n",
    "    if terminated or truncated:\n",
    "        enviroment.reset()\n",
    "    \n",
    "enviroment.reset()\n",
    "#enviroment.close()\n",
    "    "
   ]
  },
  {
   "cell_type": "code",
   "execution_count": 154,
   "id": "fc5836a3",
   "metadata": {},
   "outputs": [],
   "source": [
    "enviroment.close()"
   ]
  },
  {
   "cell_type": "code",
   "execution_count": 155,
   "id": "6ef54cab",
   "metadata": {
    "scrolled": true
   },
   "outputs": [
    {
     "data": {
      "image/png": "[encoded data removed]",
      "text/plain": [
       "<Figure size 640x480 with 1 Axes>"
      ]
     },
     "metadata": {},
     "output_type": "display_data"
    }
   ],
   "source": [
    "plt.imshow(last_img)\n",
    "plt.show()"
   ]
  },
  {
   "cell_type": "markdown",
   "id": "9e5bed2e",
   "metadata": {},
   "source": [
    "### Preprocess\n",
    "84x84x1 as used in paper \n",
    "https://arxiv.org/pdf/1312.5602.pdf \n",
    "\n",
    "4.1 Preprocessing and Model Architecture\n",
    "\n",
    "The raw frames are preprocessed by first converting their RGB representation\n",
    "to gray-scale and down-sampling it to a 110×84 image.\n",
    "\n",
    "The final input representation is obtained by\n",
    "cropping an 84 × 84 region of the image that roughly captures the playing area\n",
    "\n",
    " note: tensor has channel as first dimension"
   ]
  },
  {
   "cell_type": "code",
   "execution_count": 156,
   "id": "587ae6d5",
   "metadata": {},
   "outputs": [],
   "source": [
    "from torchvision.transforms import Compose, ToTensor, Normalize, Grayscale, Resize\n",
    "# No samples for calculate mean std for normalisaiton - skip\n",
    "class Preprocess():\n",
    "    def __init__(self, target_width = 84, target_height = 84):\n",
    "        self.width = target_width\n",
    "        self.height = target_height\n",
    "        \n",
    "        # transform\n",
    "        self.transform = T.Compose([\n",
    "            ToTensor(),\n",
    "            Grayscale(),\n",
    "            Resize((110,84))\n",
    "        ])\n",
    "    \n",
    "    def process(self,image):\n",
    "        #return self.transform(image)\n",
    "        # crop to play area not clear from paper exactly which area is considered\n",
    "        # tested different values\n",
    "        return T.functional.crop(self.transform(image),18,0,self.height,self.width)"
   ]
  },
  {
   "cell_type": "markdown",
   "id": "8b5c308b",
   "metadata": {},
   "source": [
    "$\\phi$ function stacks 4 images to create a state"
   ]
  },
  {
   "cell_type": "code",
   "execution_count": 157,
   "id": "6d96c97d",
   "metadata": {},
   "outputs": [
    {
     "name": "stdout",
     "output_type": "stream",
     "text": [
      "torch.Size([1, 84, 84])\n"
     ]
    }
   ],
   "source": [
    "test = Preprocess()\n",
    "proc_img = test.process(last_img)\n",
    "print(proc_img.shape)"
   ]
  },
  {
   "cell_type": "code",
   "execution_count": 158,
   "id": "69327323",
   "metadata": {
    "scrolled": true
   },
   "outputs": [
    {
     "data": {
      "text/plain": [
       "<matplotlib.image.AxesImage at 0x1ec82f244c0>"
      ]
     },
     "execution_count": 158,
     "metadata": {},
     "output_type": "execute_result"
    },
    {
     "data": {
      "image/png": "[encoded data removed]",
      "text/plain": [
       "<Figure size 640x480 with 1 Axes>"
      ]
     },
     "metadata": {},
     "output_type": "display_data"
    }
   ],
   "source": [
    "plt.imshow(proc_img.permute(1, 2, 0),cmap='gray')"
   ]
  },
  {
   "cell_type": "markdown",
   "id": "88b93f58",
   "metadata": {},
   "source": [
    "### Architecture\n",
    "Based on https://www.nature.com/articles/nature14236\n",
    "\n",
    "The input to the neural network consists of an 84x84x4 image produced by the preprocessing map w. \n",
    "\n",
    "The first hidden layer convolves 32 filters of 8x8 with stride 4 with the\n",
    "input image and applies a rectifier nonlinearity. \n",
    "\n",
    "The second hidden layer convolves 64 filters of 4x4 with stride 2, again followed by a rectifier nonlinearity.\n",
    "\n",
    "This is followed by a third convolutional layer that convolves 64filters of 3x3 with\n",
    "stride 1 followed by a rectifier. \n",
    "\n",
    "The final hidden layer is fully-connected and consists of 512 rectifier units. The output layer is a fully-connected linear layer with a single output for each valid action. \n",
    "\n",
    "##### We have 4 valid actions!"
   ]
  },
  {
   "cell_type": "code",
   "execution_count": 159,
   "id": "cf43a44c",
   "metadata": {},
   "outputs": [],
   "source": [
    "class DeepQ(nn.Module):\n",
    "    # TODO clean up\n",
    "    # TODO handle reward etc\n",
    "    def __init__(self, state_shape, nr_actions = 4):\n",
    "        super().__init__()\n",
    "        self.frames_state = state_shape[0]\n",
    "        self.nr_actions = nr_actions\n",
    "        \n",
    "        self.conv = nn.Sequential(\n",
    "            nn.Conv2d(self.frames_state, out_channels = 32, kernel_size = (8,8), stride = 4),\n",
    "            nn.ReLU(),\n",
    "            nn.Conv2d(32, 64, (4,4), 2),\n",
    "            nn.ReLU(),\n",
    "            nn.Conv2d(64,64,(3,3),1),\n",
    "            nn.ReLU()\n",
    "        )\n",
    "        self.linear = nn.Sequential(\n",
    "            nn.Linear(64*7*7,512),\n",
    "            nn.ReLU(),\n",
    "            nn.Linear(512,self.nr_actions)\n",
    "        )\n",
    "        \n",
    "    def forward(self,state):\n",
    "        state = self.conv(state)\n",
    "        state = state.flatten()\n",
    "        state = self.linear(state)\n",
    "        return state\n",
    "        "
   ]
  },
  {
   "cell_type": "markdown",
   "id": "6e16bdd0",
   "metadata": {},
   "source": [
    "# Memory\n",
    "We don't want to just learn from the previous states actiosn since they are highly correlated and the network would \"forget\" old states actions \n",
    "So we sample a batch from this memory\n",
    "\n",
    "## notes from nature paper\n",
    "**memory of 1 million most recent frames**\n",
    "\n",
    "First, we use a technique known as experience replay in which we store the\n",
    "agent’s experiences at each time-step, $e_t = (s_t, a_t,r_t,s_{t+1})$, in a data set $D_t = \\{e_1,…,e_t\\}$,\n",
    "pooled over many episodes (where the end of an episode occurs when a terminal state is reached) into a replay memory. \n",
    "\n",
    "##### Details\n",
    "During the inner loop of the algorithm,\n",
    "we apply Q-learning updates, or minibatch updates, to samples of experience,\n",
    "$(s, a,r,s^{'}) \\sim U(D)$, drawn at random from the pool of stored samples. This approach\n",
    "has several advantages over standard online Q-learning. First, each step of experience\n",
    "is potentially used in many weight updates, which allowsfor greater data efficiency.\n",
    "\n",
    "Second, learning directly from consecutive samples is inefficient, owing to the strong\n",
    "correlations between the samples; randomizing the samples breaks these correlations and therefore reduces the variance of the updates. Third, when learning onpolicy the current parameters determine the next data sample that the parameters\n",
    "are trained on. For example, if the maximizing action is to move left then the training samples will be dominated by samples from the left-hand side; if the maximizing action then switches to the right then the training distribution will also switch.\n",
    "Itis easy to see how unwanted feedback loops may arise and the parameters could get\n",
    "stuckin a poor localminimum, or even diverge catastrophically. By using experience replay the behaviour distribution is averaged over many of its previous states,\n",
    "smoothing out learning and avoiding oscillations or divergence in the parameters.\n",
    "Note that when learning by experience replay, it is necessary to learn off-policy\n",
    "(because our current parameters are different to those used to generate the sample), which motivates the choice of Q-learning.\n",
    "\n",
    "\n",
    "In practice, our algorithm only stores the last $N$ experience tuples in the replay\n",
    "memory, and samples uniformly at random from $D$ when performing updates. This\n",
    "approach is in some respects limited because the memory buffer does not differentiate important transitions and always overwrites with recent transitions owing\n",
    "to the finite memory size $N$. Similarly, the uniform sampling gives equal importance to all transitions in the replay memory. A more sophisticated sampling strategy might emphasize transitions from which we can learn the most, similar to\n",
    "prioritized sweeping.\n",
    "\n",
    "\n",
    "\n",
    "#### Tips\n",
    "Store frames in unit8 to save memory \n",
    "\n",
    "state t and state t+1 share 3 frames"
   ]
  },
  {
   "cell_type": "code",
   "execution_count": 216,
   "id": "1e358db5",
   "metadata": {},
   "outputs": [],
   "source": [
    "# Question - Should this be stored on the gpu or cpu ? \n",
    "# I'll try and store on cpu to save on vram\n",
    "class Replay():\n",
    "    # 1 million frames might be too much for our memory pool\n",
    "    def __init__(self,batch_size = 32 , capacity = 1000000):\n",
    "        self.batch_size = batch_size \n",
    "        self.capacity = capacity\n",
    "        \n",
    "        # keep track where to store next experience\n",
    "        self.experience = 0\n",
    "        # experiences in memory\n",
    "        self.memory_used = 0\n",
    "        \n",
    "        # Question - store in list or as arrays with allocated memory?\n",
    "        # Guess arrays and allocation\n",
    "        \n",
    "        # allocate memory for frames\n",
    "        self.frame_memory = torch.empty(size = (self.capacity, 84,84) ,dtype = torch.uint8)\n",
    "        # allocate associated actions - Question - what type? \n",
    "        self.action_memory = torch.empty(size = (self.capacity,1), dtype = torch.int)\n",
    "        # store associated rewards \n",
    "        self.reward_memory = torch.empty(size = (self.capacity,1), dtype = torch.float)\n",
    "        \n",
    "        \n",
    "    # e_t = (s_t, a_t,r_t,s_{t+1})\n",
    "    # store frames instead and then when sampling combine consectuive frames to create state\n",
    "    def update(self, frame, action,reward):\n",
    "        self.action_memory[self.experience] = action\n",
    "        self.reward_memory[self.experience] = reward\n",
    "        \n",
    "        # convert frame to unit8\n",
    "        # rounding errors, so we need to undo our scaling during preprocess \n",
    "        # feels inefficient \n",
    "        # TODO - maybe change preprocess so this is not necessary\n",
    "        self.frame_memory[self.experience] = (frame*255).type(torch.uint8)\n",
    "        \n",
    "        \n",
    "        self.memory_used = max(self.experience+1,  self.memory_used )\n",
    "        self.experience = (self.experience + 1) % self.capacity\n",
    "        \n",
    "        \n",
    "        \n",
    "        \n",
    "    # selection random uniformly\n",
    "    # Should return (s_t, a_t,r_t,s_{t+1})\n",
    "    \n",
    "    # dimension (batch_size, (4,width,height), 4, 4 , (4,width,height)\n",
    "    def sample_batch(self):\n",
    "        # TODO current_memory_size\n",
    "        # we need previus state so start at 3 \n",
    "        sample_indexes = np.random.randint(3,self.memory_used-1, self.batch_size)\n",
    "        print(self.memory_used)\n",
    "        print(sample_indexes)\n",
    "        for index in sample_indexes:\n",
    "            \n",
    "            \n",
    "        \n",
    "        \n",
    "    #def generate_state(self,index):\n",
    "        #self.frame_memory\n",
    "        \n",
    "        \n",
    "        \n",
    "    "
   ]
  },
  {
   "cell_type": "code",
   "execution_count": 225,
   "id": "04a44a96",
   "metadata": {
    "scrolled": true
   },
   "outputs": [],
   "source": [
    "buffer =  Replay()"
   ]
  },
  {
   "cell_type": "code",
   "execution_count": 230,
   "id": "be9e35b6",
   "metadata": {},
   "outputs": [],
   "source": [
    "buffer.update(proc_img, 1, 1)"
   ]
  },
  {
   "cell_type": "code",
   "execution_count": 231,
   "id": "041423c0",
   "metadata": {},
   "outputs": [
    {
     "name": "stdout",
     "output_type": "stream",
     "text": [
      "5\n",
      "[3 3 3 3 3 3 3 3 3 3 3 3 3 3 3 3 3 3 3 3 3 3 3 3 3 3 3 3 3 3 3 3]\n"
     ]
    }
   ],
   "source": [
    "buffer.sample_batch()"
   ]
  },
  {
   "cell_type": "code",
   "execution_count": null,
   "id": "d2cbeb1b",
   "metadata": {},
   "outputs": [],
   "source": []
  },
  {
   "cell_type": "markdown",
   "id": "c3056bbd",
   "metadata": {},
   "source": [
    "Q"
   ]
  },
  {
   "cell_type": "code",
   "execution_count": null,
   "id": "0a038da8",
   "metadata": {},
   "outputs": [],
   "source": [
    "class Qvalue():\n",
    "    \n",
    "    # for action network\n",
    "    def q_action(model, states, actions):\n",
    "        model(states)\n",
    "    \n",
    "    # next state using target network\n",
    "    def \n",
    "    \n"
   ]
  },
  {
   "cell_type": "code",
   "execution_count": null,
   "id": "9fe45858",
   "metadata": {},
   "outputs": [],
   "source": []
  },
  {
   "cell_type": "markdown",
   "id": "58ab7d05",
   "metadata": {},
   "source": [
    "#### Algorithm 1: deep Q-learning with experience replay \n",
    "source: https://www.nature.com/articles/nature14236/\n"
   ]
  },
  {
   "cell_type": "markdown",
   "id": "25029469",
   "metadata": {},
   "source": [
    "#### dummy implement\n",
    "stupid tests "
   ]
  },
  {
   "cell_type": "code",
   "execution_count": null,
   "id": "ebd8335c",
   "metadata": {},
   "outputs": [],
   "source": [
    "#TODO structure it \n",
    "\n",
    "# TODO batches\n",
    "state = np.array([[1]]) # just for shape for now\n",
    "\n",
    "M = 2\n",
    "T = 5\n",
    "preprocessor = Preprocess()\n",
    "# TODO initial replay memory D to Capacity N\n",
    "action_Q = DeepQ(state.shape) # init action network Random weights\n",
    "target_Q = DeepQ(state.shape) # init target network, TODO same weights as action\n",
    "for episode in range(M): # - for episode = 1, M do:\n",
    "    # intialize state - initilize sequence s1={x1} and preprocess sequence \n",
    "    env = gym.make(\"BreakoutDeterministic-v4\")\n",
    "    frame, info = env.reset()\n",
    "    frame = preprocessor.process(frame)\n",
    "    state = torch.cat((frame,frame,frame,frame))\n",
    "    \n",
    "    for t in range(T): # - for t=1, T do:\n",
    "        # TODO\n",
    "        # selection action with prob e\n",
    "        # otherwise select action a = argmax(Q(state),a; weights)\n",
    "        #  action = \n",
    "        \n",
    "        # TODO \n",
    "        # Execute action a and observe reward r and next image\n",
    "        #new_obs, reward, _, _, _ = env.step(action)\n",
    "        \n",
    "        \n",
    "        # TODO\n",
    "        #set s_t+1 = s_t,a_t,x_t+1 and preprocess_t+1 = pre(s_t+1)\n",
    "        # new_obs = preprocessor.process(new_obs)\n",
    "        \n",
    "        #next_state   \n",
    "        # should remove first frame and add new frame last \n",
    "        #new_state = np.append(state[1: , :, :], new_obs, axis=0)\n",
    "        \n",
    "        \n",
    "        # TODO\n",
    "        # store transition pre_t,a_t,r_t,pre_t+1 in D \n",
    "        # replay shit\n",
    "        \n",
    "        #TODO \n",
    "        # sample random minibatch of transitions pre_t,a_t,r_t,pre_t+1 from D \n",
    "        # This should probabiliy be its own function \n",
    "        # if episode terminate at next step\n",
    "        # set y_j = r_j + gamma max(Q) -- etc \n",
    "        # oteherwise gradient descent \n",
    "        \n",
    "        # at every step update target network weights to action network weights\n",
    "        \n",
    "        \n",
    "    \n",
    "        \n",
    "\n",
    "        \n",
    "        \n",
    "        \n",
    "    "
   ]
  },
  {
   "cell_type": "code",
   "execution_count": null,
   "id": "762faf89",
   "metadata": {},
   "outputs": [],
   "source": [
    "plt.imshow(proc_img.permute(1, 2, 0)*255,cmap='gray')"
   ]
  },
  {
   "cell_type": "code",
   "execution_count": null,
   "id": "6ad2721b",
   "metadata": {},
   "outputs": [],
   "source": []
  },
  {
   "cell_type": "markdown",
   "id": "95c2344f",
   "metadata": {},
   "source": [
    "#### Random test area"
   ]
  },
  {
   "cell_type": "code",
   "execution_count": 234,
   "id": "769d89f9",
   "metadata": {
    "scrolled": true
   },
   "outputs": [
    {
     "name": "stdout",
     "output_type": "stream",
     "text": [
      "torch.Size([4])\n"
     ]
    }
   ],
   "source": [
    "print(test.forward(proc_img).shape)\n"
   ]
  },
  {
   "cell_type": "code",
   "execution_count": null,
   "id": "1a67abd9",
   "metadata": {},
   "outputs": [],
   "source": [
    "frame_memory = torch.empty(size = (4, 2,2) ,dtype = torch.uint8)"
   ]
  },
  {
   "cell_type": "code",
   "execution_count": null,
   "id": "58c64846",
   "metadata": {},
   "outputs": [],
   "source": [
    "frame_memory"
   ]
  },
  {
   "cell_type": "code",
   "execution_count": null,
   "id": "4705bc93",
   "metadata": {},
   "outputs": [],
   "source": [
    "new_test = np.array([[1,3],[4,5]])\n",
    "new_test = torch.tensor(new_test)\n",
    "new_test"
   ]
  },
  {
   "cell_type": "code",
   "execution_count": null,
   "id": "ea5d2a95",
   "metadata": {},
   "outputs": [],
   "source": [
    "frame_memory[3] = new_test+3"
   ]
  },
  {
   "cell_type": "code",
   "execution_count": null,
   "id": "1a606c41",
   "metadata": {},
   "outputs": [],
   "source": [
    "frame_memory"
   ]
  },
  {
   "cell_type": "code",
   "execution_count": null,
   "id": "8255d16d",
   "metadata": {},
   "outputs": [],
   "source": [
    "frame_memory[0,...]"
   ]
  },
  {
   "cell_type": "code",
   "execution_count": null,
   "id": "2a0464a5",
   "metadata": {},
   "outputs": [],
   "source": [
    "torch.tensor(np.array([1,2,3]))"
   ]
  },
  {
   "cell_type": "code",
   "execution_count": null,
   "id": "e4c77d7c",
   "metadata": {},
   "outputs": [],
   "source": [
    "test = torch.empty(size = (5,1))"
   ]
  },
  {
   "cell_type": "code",
   "execution_count": null,
   "id": "c203cc9f",
   "metadata": {},
   "outputs": [],
   "source": [
    "test.shape\n",
    "test[1] = 1"
   ]
  },
  {
   "cell_type": "code",
   "execution_count": null,
   "id": "137a5ff4",
   "metadata": {},
   "outputs": [],
   "source": [
    "test"
   ]
  },
  {
   "cell_type": "code",
   "execution_count": null,
   "id": "a2eeda97",
   "metadata": {},
   "outputs": [],
   "source": [
    "last_img.shape"
   ]
  },
  {
   "cell_type": "code",
   "execution_count": 243,
   "id": "14801f3a",
   "metadata": {},
   "outputs": [],
   "source": [
    "env = gym.make(\"BreakoutDeterministic-v4\").unwrapped"
   ]
  },
  {
   "cell_type": "code",
   "execution_count": 248,
   "id": "af600806",
   "metadata": {},
   "outputs": [
    {
     "ename": "NameError",
     "evalue": "name 'human' is not defined",
     "output_type": "error",
     "traceback": [
      "\u001b[1;31m---------------------------------------------------------------------------\u001b[0m",
      "\u001b[1;31mNameError\u001b[0m                                 Traceback (most recent call last)",
      "Cell \u001b[1;32mIn[248], line 1\u001b[0m\n\u001b[1;32m----> 1\u001b[0m env\u001b[38;5;241m.\u001b[39mrender(\u001b[43mhuman\u001b[49m)\n",
      "\u001b[1;31mNameError\u001b[0m: name 'human' is not defined"
     ]
    }
   ],
   "source": [
    "env.render(human)"
   ]
  },
  {
   "cell_type": "code",
   "execution_count": 274,
   "id": "bc8ae156",
   "metadata": {},
   "outputs": [
    {
     "data": {
      "text/plain": [
       "array([[[0, 0, 0],\n",
       "        [0, 0, 0],\n",
       "        [0, 0, 0],\n",
       "        ...,\n",
       "        [0, 0, 0],\n",
       "        [0, 0, 0],\n",
       "        [0, 0, 0]],\n",
       "\n",
       "       [[0, 0, 0],\n",
       "        [0, 0, 0],\n",
       "        [0, 0, 0],\n",
       "        ...,\n",
       "        [0, 0, 0],\n",
       "        [0, 0, 0],\n",
       "        [0, 0, 0]],\n",
       "\n",
       "       [[0, 0, 0],\n",
       "        [0, 0, 0],\n",
       "        [0, 0, 0],\n",
       "        ...,\n",
       "        [0, 0, 0],\n",
       "        [0, 0, 0],\n",
       "        [0, 0, 0]],\n",
       "\n",
       "       ...,\n",
       "\n",
       "       [[0, 0, 0],\n",
       "        [0, 0, 0],\n",
       "        [0, 0, 0],\n",
       "        ...,\n",
       "        [0, 0, 0],\n",
       "        [0, 0, 0],\n",
       "        [0, 0, 0]],\n",
       "\n",
       "       [[0, 0, 0],\n",
       "        [0, 0, 0],\n",
       "        [0, 0, 0],\n",
       "        ...,\n",
       "        [0, 0, 0],\n",
       "        [0, 0, 0],\n",
       "        [0, 0, 0]],\n",
       "\n",
       "       [[0, 0, 0],\n",
       "        [0, 0, 0],\n",
       "        [0, 0, 0],\n",
       "        ...,\n",
       "        [0, 0, 0],\n",
       "        [0, 0, 0],\n",
       "        [0, 0, 0]]], dtype=uint8)"
      ]
     },
     "execution_count": 274,
     "metadata": {},
     "output_type": "execute_result"
    }
   ],
   "source": [
    "t.render()"
   ]
  },
  {
   "cell_type": "code",
   "execution_count": 277,
   "id": "5e22f30e",
   "metadata": {},
   "outputs": [
    {
     "data": {
      "text/plain": [
       "<ale_py.env.gym.AtariEnv at 0x1ec88427be0>"
      ]
     },
     "execution_count": 277,
     "metadata": {},
     "output_type": "execute_result"
    }
   ],
   "source": [
    "env"
   ]
  },
  {
   "cell_type": "code",
   "execution_count": 279,
   "id": "bf946123",
   "metadata": {},
   "outputs": [
    {
     "data": {
      "text/plain": [
       "['NOOP', 'FIRE', 'RIGHT', 'LEFT']"
      ]
     },
     "execution_count": 279,
     "metadata": {},
     "output_type": "execute_result"
    }
   ],
   "source": [
    "env.get_action_meanings()"
   ]
  },
  {
   "cell_type": "code",
   "execution_count": 281,
   "id": "a3fa29c6",
   "metadata": {},
   "outputs": [],
   "source": []
  },
  {
   "cell_type": "code",
   "execution_count": 286,
   "id": "e1c9fe84",
   "metadata": {},
   "outputs": [],
   "source": []
  },
  {
   "cell_type": "code",
   "execution_count": 25,
   "id": "3152e53a",
   "metadata": {},
   "outputs": [
    {
     "data": {
      "text/plain": [
       "array([[[0, 0, 0],\n",
       "        [0, 0, 0],\n",
       "        [0, 0, 0],\n",
       "        ...,\n",
       "        [0, 0, 0],\n",
       "        [0, 0, 0],\n",
       "        [0, 0, 0]],\n",
       "\n",
       "       [[0, 0, 0],\n",
       "        [0, 0, 0],\n",
       "        [0, 0, 0],\n",
       "        ...,\n",
       "        [0, 0, 0],\n",
       "        [0, 0, 0],\n",
       "        [0, 0, 0]],\n",
       "\n",
       "       [[0, 0, 0],\n",
       "        [0, 0, 0],\n",
       "        [0, 0, 0],\n",
       "        ...,\n",
       "        [0, 0, 0],\n",
       "        [0, 0, 0],\n",
       "        [0, 0, 0]],\n",
       "\n",
       "       ...,\n",
       "\n",
       "       [[0, 0, 0],\n",
       "        [0, 0, 0],\n",
       "        [0, 0, 0],\n",
       "        ...,\n",
       "        [0, 0, 0],\n",
       "        [0, 0, 0],\n",
       "        [0, 0, 0]],\n",
       "\n",
       "       [[0, 0, 0],\n",
       "        [0, 0, 0],\n",
       "        [0, 0, 0],\n",
       "        ...,\n",
       "        [0, 0, 0],\n",
       "        [0, 0, 0],\n",
       "        [0, 0, 0]],\n",
       "\n",
       "       [[0, 0, 0],\n",
       "        [0, 0, 0],\n",
       "        [0, 0, 0],\n",
       "        ...,\n",
       "        [0, 0, 0],\n",
       "        [0, 0, 0],\n",
       "        [0, 0, 0]]], dtype=uint8)"
      ]
     },
     "execution_count": 25,
     "metadata": {},
     "output_type": "execute_result"
    }
   ],
   "source": [
    "from torch.utils.tensorboard import SummaryWriter \n",
    "env = gym.make(\"BreakoutDeterministic-v4\", render_mode=\"rgb_array\")\n",
    "env.reset()"
   ]
  },
  {
   "cell_type": "code",
   "execution_count": 26,
   "id": "57f120f5",
   "metadata": {},
   "outputs": [],
   "source": [
    "test_a = env.action_space.sample()\n",
    "observation, reward, done, info  = env.step(test_a)\n"
   ]
  },
  {
   "cell_type": "code",
   "execution_count": 33,
   "id": "dfab5e62",
   "metadata": {},
   "outputs": [
    {
     "data": {
      "text/plain": [
       "True"
      ]
     },
     "execution_count": 33,
     "metadata": {},
     "output_type": "execute_result"
    }
   ],
   "source": [
    "(info[\"rgb\"] == observation).all()"
   ]
  },
  {
   "cell_type": "code",
   "execution_count": 309,
   "id": "9b2a6235",
   "metadata": {},
   "outputs": [],
   "source": [
    "import torch.optim as optim\n",
    "optimizer = optim.Adam(params=policy_net.parameters(), lr=0.00005)\n",
    "criterion = torch.nn.SmoothL1Loss()\n",
    "tracker_dict = init_tracker_dict()"
   ]
  },
  {
   "cell_type": "code",
   "execution_count": 310,
   "id": "ed37d548",
   "metadata": {},
   "outputs": [
    {
     "data": {
      "text/plain": [
       "<Figure size 640x480 with 0 Axes>"
      ]
     },
     "metadata": {},
     "output_type": "display_data"
    }
   ],
   "source": [
    "import time\n",
    "plt.figure()\n",
    "# for estimating the time\n",
    "t1,t2 = time.time(),time.time()\n",
    "num_target_update = 0"
   ]
  },
  {
   "cell_type": "code",
   "execution_count": null,
   "id": "024c0a27",
   "metadata": {},
   "outputs": [],
   "source": []
  }
 ],
 "metadata": {
  "kernelspec": {
   "display_name": "Python 3 (ipykernel)",
   "language": "python",
   "name": "python3"
  },
  "language_info": {
   "codemirror_mode": {
    "name": "ipython",
    "version": 3
   },
   "file_extension": ".py",
   "mimetype": "text/x-python",
   "name": "python",
   "nbconvert_exporter": "python",
   "pygments_lexer": "ipython3",
   "version": "3.9.13"
  }
 },
 "nbformat": 4,
 "nbformat_minor": 5
}
