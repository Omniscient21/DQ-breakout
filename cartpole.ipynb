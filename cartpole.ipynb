{
 "cells": [
  {
   "cell_type": "markdown",
   "id": "f8d0d733",
   "metadata": {},
   "source": [
    "#### Cartpole\n",
    "Code guided from:\n",
    "* https://www.nature.com/articles/nature14236\n",
    "* https://pytorch.org/tutorials/intermediate/reinforcement_q_learning.html\n",
    "* https://github.com/fg91/Deep-Q-Learning/blob/master/DQN.ipynb\n",
    "* https://github.com/openai/baselines/tree/master/baselines/deepq\n",
    "* https://github.com/jasonbian97/Deep-Q-Learning-Atari-Pytorch\n",
    "\n"
   ]
  },
  {
   "cell_type": "code",
   "execution_count": 1,
   "id": "7913f94a",
   "metadata": {},
   "outputs": [],
   "source": [
    "import torch\n",
    "import numpy as np\n",
    "import matplotlib.pyplot as plt\n",
    "from PIL import Image \n",
    "from tqdm.notebook import tqdm\n",
    "from collections import deque\n",
    "import itertools\n",
    "import random\n",
    "import gym\n",
    "from collections import namedtuple\n",
    "\n",
    "import torch.nn as nn\n",
    "import torch.nn.functional as F\n",
    "\n",
    "\n",
    "import torchvision.transforms as T"
   ]
  },
  {
   "cell_type": "markdown",
   "id": "61f90cb0",
   "metadata": {},
   "source": [
    "### Hyperparamters\n",
    "\n",
    "Based on \n",
    "\n",
    "https://www.nature.com/articles/nature14236 *Human-level control through deep reinforcement\n",
    "learning*\n",
    "\n"
   ]
  },
  {
   "cell_type": "code",
   "execution_count": 2,
   "id": "da828af8",
   "metadata": {},
   "outputs": [],
   "source": [
    "gamma = 0.99                  # discount rate \n",
    "batch_size = 32               # batch size\n",
    "memory_size = 50000           # mem capacity of our replay memory\n",
    "required_mem = 1000           # init-size how much we want in the memory before training \n",
    "e_start = 1.0                 # start value of epsilon \n",
    "e_end =  0.02                 # end value of epsilon \n",
    "e_steps = 10000               # number of steps for epsilon reaches end\n",
    "target_update = 1000          # how often we update target network to action network\n",
    "lr = 25e-5                    # learning rate\n"
   ]
  },
  {
   "cell_type": "markdown",
   "id": "191cdf13",
   "metadata": {},
   "source": [
    "#### Info about game\n",
    "A reward of +1 is given for every time step the pole remains upright. An episode ends when: \n",
    "\n",
    "1) the pole is more than 15 degrees from vertical;\n",
    "\n",
    "or \n",
    "\n",
    "2) the cart moves more than 2.4 units from the center\n",
    "\n",
    "\n",
    "200 reward is max, after 200 game ends\n",
    "\n",
    "\n",
    "Cartpole observation consits of (inorder):\n",
    "* position of cart\n",
    "* velocity of cart\n",
    "* angle of pole\n",
    "* rotation rate of pole\n",
    "\n",
    "Cartpole actions consists of (inorder):\n",
    "* Push cart to the left\n",
    "* Push cart to the right\n",
    "\n"
   ]
  },
  {
   "cell_type": "markdown",
   "id": "30750e42",
   "metadata": {},
   "source": [
    "#### Replay Memory"
   ]
  },
  {
   "cell_type": "code",
   "execution_count": 3,
   "id": "008486d3",
   "metadata": {},
   "outputs": [],
   "source": [
    "class ReplayMemory():\n",
    "    def __init__(self):\n",
    "        self.replay_mem = deque(maxlen=memory_size)\n",
    "        self.reward_eps_mem = deque([0.0], maxlen=100)\n",
    "    def update_replay(self,experience):\n",
    "        self.replay_mem.append(experience)\n",
    "    \n",
    "    def update_eps_reward(self,reward):\n",
    "        self.reward_eps_mem.append(reward)\n",
    "        "
   ]
  },
  {
   "cell_type": "markdown",
   "id": "7af72e5e",
   "metadata": {},
   "source": [
    "#### Network"
   ]
  },
  {
   "cell_type": "code",
   "execution_count": 4,
   "id": "e441d255",
   "metadata": {},
   "outputs": [],
   "source": [
    "class LinModel(nn.Module):\n",
    "    def __init__(self):\n",
    "        super().__init__()\n",
    "        self.lin1 = nn.Sequential(\n",
    "            nn.Linear(4, 64),\n",
    "            nn.ReLU(),\n",
    "            nn.Linear(64, 2)\n",
    "        )\n",
    "    def forward(self,x):\n",
    "        return self.lin1(x)\n",
    "    def action(self,state):\n",
    "        state = torch.as_tensor(state, dtype = torch.float32) # tensor \n",
    "        state = state.unsqueeze(0) # unsqueeze since pytorch expects batches\n",
    "        q_values = self.forward(state) # model output (q_values)\n",
    "        highest_q_index = torch.argmax(q_values,dim=1)[0] # find action with highest q value\n",
    "        action = highest_q_index.detach().item() # convert tensor to regular number\n",
    "        return action\n",
    "    "
   ]
  },
  {
   "cell_type": "code",
   "execution_count": 5,
   "id": "b9ccd1c9",
   "metadata": {},
   "outputs": [],
   "source": [
    "# create mem and game enviroment\n",
    "memory  = ReplayMemory()\n",
    "env = gym.make(\"CartPole-v0\")\n"
   ]
  },
  {
   "cell_type": "code",
   "execution_count": 6,
   "id": "5e1e6270",
   "metadata": {},
   "outputs": [],
   "source": [
    "Experience= namedtuple(\n",
    "    \"Experience\",\n",
    "    (\"state\", \"action\", \"reward\", \"done\", \"next_state\" )\n",
    ")\n",
    "# initlize memory\n",
    "def mem_init(env,mem):\n",
    "    state = env.reset()\n",
    "    for _ in range(required_mem):\n",
    "        # random uniform action\n",
    "        action = env.action_space.sample()\n",
    "        new_state, reward, done, info = env.step(action)\n",
    "        #make tuple\n",
    "        experience = Experience(state,action,reward,done, new_state)\n",
    "        # add to memory\n",
    "        mem.update_replay(experience)\n",
    "        state = new_state\n",
    "        if done:\n",
    "            state = env.reset()\n",
    "    \n",
    "    return mem\n",
    "\n",
    "memory = mem_init(env,memory)\n",
    "\n",
    "    "
   ]
  },
  {
   "cell_type": "markdown",
   "id": "d1ee8216",
   "metadata": {},
   "source": [
    "#### Training "
   ]
  },
  {
   "cell_type": "code",
   "execution_count": 7,
   "id": "25fac441",
   "metadata": {},
   "outputs": [],
   "source": [
    "# initlize models\n",
    "action_network = LinModel()\n",
    "target_network = LinModel()\n",
    "# init, target = action \n",
    "target_network.load_state_dict(action_network.state_dict())\n",
    "\n",
    "# set optimizer \n",
    "optimizer = torch.optim.Adam(action_network.parameters(), lr=lr)\n"
   ]
  },
  {
   "cell_type": "code",
   "execution_count": 8,
   "id": "e7b99166",
   "metadata": {
    "scrolled": false
   },
   "outputs": [],
   "source": [
    "step_logging = []\n",
    "reward_logging = []\n",
    "loss_logging = []\n",
    "\n",
    "def train():\n",
    "    eps_reward = 0.0\n",
    "    state = env.reset()\n",
    "    for step in itertools.count():\n",
    "\n",
    "        # get the current epsilon value\n",
    "        epsilon = np.interp(step,[0, e_steps], [e_start, e_end])\n",
    "        # sample from [0.0,...,1.0)\n",
    "        rnd = random.random()\n",
    "        # random action\n",
    "        if rnd <= epsilon:\n",
    "            action = env.action_space.sample()\n",
    "        # action from network\n",
    "        else:\n",
    "            action = action_network.action(state)        \n",
    "\n",
    "        # take action\n",
    "        new_state, reward, done, info = env.step(action)\n",
    "        # make experience named tuple (s_t, a_t,r_t,s_{t+1}\n",
    "        experience = Experience(state,action,reward,done,new_state)\n",
    "        # add experience to memory\n",
    "        memory.update_replay(experience)\n",
    "        state = new_state\n",
    "\n",
    "\n",
    "        eps_reward += reward\n",
    "\n",
    "        if done:\n",
    "            state = env.reset()\n",
    "\n",
    "            memory.update_eps_reward(eps_reward)\n",
    "            eps_reward = 0.0\n",
    "\n",
    "\n",
    "        # sample from replay memory (batch size number of experiences)\n",
    "        experiences = random.sample(memory.replay_mem, batch_size)\n",
    "        \n",
    "        # divided experience into parts \n",
    "        states = []\n",
    "        actions = []\n",
    "        rewards = []\n",
    "        dones = []\n",
    "        next_states = []\n",
    "        for e in experiences:\n",
    "            states.append(e.state)\n",
    "            actions.append(e.action)\n",
    "            rewards.append(e.reward)\n",
    "            dones.append(e.done)\n",
    "            next_states.append(e.next_state)\n",
    "        \n",
    "        # convert to tensors\n",
    "        states = torch.tensor(states, dtype=torch.float)\n",
    "        actions = torch.tensor(actions, dtype=torch.int64).unsqueeze(-1)\n",
    "        rewards = torch.tensor(rewards, dtype=torch.float).unsqueeze(-1)\n",
    "        dones = torch.tensor(dones, dtype=torch.float).unsqueeze(-1)\n",
    "        next_states = torch.tensor(next_states, dtype=torch.float)\n",
    "        \n",
    "        \n",
    "        \n",
    "        \n",
    "        \n",
    "        # Target\n",
    "        target_q_values = target_network(next_states)\n",
    "        max_target_q_values = target_q_values.max(dim=1, keepdim=True)[0]\n",
    "        # set y_j = r_j + gamma * max(Q_target(next_state)) \n",
    "        # if teminal state y_j = r_j -> (1-done_j) = 0\n",
    "        targets = rewards + gamma * (1 - dones) * max_target_q_values\n",
    "\n",
    "        # Loss\n",
    "        q_values = action_network(states)\n",
    "        action_q_values = torch.gather(input=q_values, dim=1,index=actions)\n",
    "        loss = nn.functional.mse_loss(action_q_values, targets)\n",
    "\n",
    "        # Gradient descent\n",
    "        optimizer.zero_grad()\n",
    "        loss.backward()\n",
    "        optimizer.step()\n",
    "\n",
    "        # -  every target_update step (called C in paper)\n",
    "        # - save model parameters\n",
    "        # - logg metrics\n",
    "        if step % target_update == 0:\n",
    "            # update target network\n",
    "            target_network.load_state_dict(action_network.state_dict())\n",
    "\n",
    "\n",
    "            # save model\n",
    "            avg_reward = np.mean(memory.reward_eps_mem)\n",
    "            torch.save({\n",
    "                'step': step,\n",
    "                'model_state_dict': action_network.state_dict(),\n",
    "                'optimizer_state_dict': optimizer.state_dict(),\n",
    "                'loss': loss,\n",
    "                \"reward\" : avg_reward\n",
    "                }, \"./models/CartPoleLinear\")\n",
    "            # loggs\n",
    "            step_logging.append(step)\n",
    "            reward_logging.append(avg_reward)\n",
    "            loss_logging.append(loss)\n",
    "            print(\"\\nReward: \", avg_reward)\n",
    "    \n",
    "    \n",
    "        \n",
    "        \n",
    "        \n",
    "\n",
    "    "
   ]
  },
  {
   "cell_type": "code",
   "execution_count": 9,
   "id": "dbf80ebc",
   "metadata": {},
   "outputs": [
    {
     "name": "stderr",
     "output_type": "stream",
     "text": [
      "C:\\Users\\emanu\\AppData\\Local\\Temp\\ipykernel_21636\\3617393536.py:56: UserWarning: Creating a tensor from a list of numpy.ndarrays is extremely slow. Please consider converting the list to a single numpy.ndarray with numpy.array() before converting to a tensor. (Triggered internally at  C:\\cb\\pytorch_1000000000000\\work\\torch\\csrc\\utils\\tensor_new.cpp:210.)\n",
      "  states = torch.tensor(states, dtype=torch.float)\n"
     ]
    },
    {
     "name": "stdout",
     "output_type": "stream",
     "text": [
      "\n",
      "Reward:  0.0\n",
      "\n",
      "Reward:  20.208333333333332\n",
      "\n",
      "Reward:  18.88\n",
      "\n",
      "Reward:  17.3\n",
      "\n",
      "Reward:  23.18\n",
      "\n",
      "Reward:  29.17\n",
      "\n",
      "Reward:  35.35\n",
      "\n",
      "Reward:  42.0\n",
      "\n",
      "Reward:  49.92\n",
      "\n",
      "Reward:  54.55\n",
      "\n",
      "Reward:  60.19\n",
      "\n",
      "Reward:  68.32\n",
      "\n",
      "Reward:  75.5\n",
      "\n",
      "Reward:  82.59\n",
      "\n",
      "Reward:  89.86\n",
      "\n",
      "Reward:  95.86\n",
      "\n",
      "Reward:  103.18\n",
      "\n",
      "Reward:  110.24\n",
      "\n",
      "Reward:  118.76\n",
      "\n",
      "Reward:  125.96\n",
      "\n",
      "Reward:  133.63\n",
      "\n",
      "Reward:  140.31\n",
      "\n",
      "Reward:  147.09\n",
      "\n",
      "Reward:  154.06\n",
      "\n",
      "Reward:  159.78\n",
      "\n",
      "Reward:  166.96\n",
      "\n",
      "Reward:  172.76\n",
      "\n",
      "Reward:  178.46\n",
      "\n",
      "Reward:  183.65\n",
      "\n",
      "Reward:  187.96\n",
      "\n",
      "Reward:  191.31\n",
      "\n",
      "Reward:  193.56\n",
      "\n",
      "Reward:  195.49\n",
      "\n",
      "Reward:  198.04\n",
      "\n",
      "Reward:  198.78\n",
      "\n",
      "Reward:  199.08\n",
      "\n",
      "Reward:  199.49\n",
      "\n",
      "Reward:  199.49\n",
      "\n",
      "Reward:  200.0\n",
      "\n",
      "Reward:  200.0\n",
      "\n",
      "Reward:  200.0\n",
      "\n",
      "Reward:  200.0\n",
      "\n",
      "Reward:  200.0\n",
      "\n",
      "Reward:  200.0\n",
      "\n",
      "Reward:  200.0\n"
     ]
    },
    {
     "ename": "KeyboardInterrupt",
     "evalue": "",
     "output_type": "error",
     "traceback": [
      "\u001b[1;31m---------------------------------------------------------------------------\u001b[0m",
      "\u001b[1;31mKeyboardInterrupt\u001b[0m                         Traceback (most recent call last)",
      "Input \u001b[1;32mIn [9]\u001b[0m, in \u001b[0;36m<cell line: 1>\u001b[1;34m()\u001b[0m\n\u001b[1;32m----> 1\u001b[0m \u001b[43mtrain\u001b[49m\u001b[43m(\u001b[49m\u001b[43m)\u001b[49m\n",
      "Input \u001b[1;32mIn [8]\u001b[0m, in \u001b[0;36mtrain\u001b[1;34m()\u001b[0m\n\u001b[0;32m     55\u001b[0m \u001b[38;5;66;03m# convert to tensors\u001b[39;00m\n\u001b[0;32m     56\u001b[0m states \u001b[38;5;241m=\u001b[39m torch\u001b[38;5;241m.\u001b[39mtensor(states, dtype\u001b[38;5;241m=\u001b[39mtorch\u001b[38;5;241m.\u001b[39mfloat)\n\u001b[1;32m---> 57\u001b[0m actions \u001b[38;5;241m=\u001b[39m \u001b[43mtorch\u001b[49m\u001b[38;5;241;43m.\u001b[39;49m\u001b[43mtensor\u001b[49m\u001b[43m(\u001b[49m\u001b[43mactions\u001b[49m\u001b[43m,\u001b[49m\u001b[43m \u001b[49m\u001b[43mdtype\u001b[49m\u001b[38;5;241;43m=\u001b[39;49m\u001b[43mtorch\u001b[49m\u001b[38;5;241;43m.\u001b[39;49m\u001b[43mint64\u001b[49m\u001b[43m)\u001b[49m\u001b[38;5;241;43m.\u001b[39;49m\u001b[43munsqueeze\u001b[49m\u001b[43m(\u001b[49m\u001b[38;5;241;43m-\u001b[39;49m\u001b[38;5;241;43m1\u001b[39;49m\u001b[43m)\u001b[49m\n\u001b[0;32m     58\u001b[0m rewards \u001b[38;5;241m=\u001b[39m torch\u001b[38;5;241m.\u001b[39mtensor(rewards, dtype\u001b[38;5;241m=\u001b[39mtorch\u001b[38;5;241m.\u001b[39mfloat)\u001b[38;5;241m.\u001b[39munsqueeze(\u001b[38;5;241m-\u001b[39m\u001b[38;5;241m1\u001b[39m)\n\u001b[0;32m     59\u001b[0m dones \u001b[38;5;241m=\u001b[39m torch\u001b[38;5;241m.\u001b[39mtensor(dones, dtype\u001b[38;5;241m=\u001b[39mtorch\u001b[38;5;241m.\u001b[39mfloat)\u001b[38;5;241m.\u001b[39munsqueeze(\u001b[38;5;241m-\u001b[39m\u001b[38;5;241m1\u001b[39m)\n",
      "\u001b[1;31mKeyboardInterrupt\u001b[0m: "
     ]
    }
   ],
   "source": [
    "train()"
   ]
  },
  {
   "cell_type": "code",
   "execution_count": 13,
   "id": "82c5a20e",
   "metadata": {},
   "outputs": [
    {
     "data": {
      "image/png": "[encoded data removed]",
      "text/plain": [
       "<Figure size 640x480 with 1 Axes>"
      ]
     },
     "metadata": {},
     "output_type": "display_data"
    }
   ],
   "source": [
    "plt.plot(step_logging,reward_logging)\n",
    "plt.xlabel(\"Steps\")\n",
    "plt.ylabel(\"Reward\")\n",
    "plt.show()\n"
   ]
  },
  {
   "cell_type": "markdown",
   "id": "4570ffcc",
   "metadata": {},
   "source": [
    "#### display\n",
    "Video of preformance"
   ]
  },
  {
   "cell_type": "code",
   "execution_count": 21,
   "id": "2f96f3b9",
   "metadata": {},
   "outputs": [
    {
     "name": "stderr",
     "output_type": "stream",
     "text": [
      "Exception ignored in: <function Monitor.__del__ at 0x000002599C9C9280>\n",
      "Traceback (most recent call last):\n",
      "  File \"C:\\Users\\emanu\\anaconda3\\envs\\dmlgpu\\lib\\site-packages\\gym\\wrappers\\monitor.py\", line 289, in __del__\n",
      "    self.close()\n",
      "  File \"C:\\Users\\emanu\\anaconda3\\envs\\dmlgpu\\lib\\site-packages\\gym\\wrappers\\monitor.py\", line 182, in close\n",
      "    self.stats_recorder.close()\n",
      "  File \"C:\\Users\\emanu\\anaconda3\\envs\\dmlgpu\\lib\\site-packages\\gym\\wrappers\\monitoring\\stats_recorder.py\", line 105, in close\n",
      "    self.flush()\n",
      "  File \"C:\\Users\\emanu\\anaconda3\\envs\\dmlgpu\\lib\\site-packages\\gym\\wrappers\\monitoring\\stats_recorder.py\", line 112, in flush\n",
      "    with atomic_write.atomic_write(self.path) as f:\n",
      "  File \"C:\\Users\\emanu\\anaconda3\\envs\\dmlgpu\\lib\\contextlib.py\", line 119, in __enter__\n",
      "    return next(self.gen)\n",
      "  File \"C:\\Users\\emanu\\anaconda3\\envs\\dmlgpu\\lib\\site-packages\\gym\\utils\\atomic_write.py\", line 50, in atomic_write\n",
      "    with open(tmppath, \"wb\" if binary else \"w\") as file:\n",
      "FileNotFoundError: [Errno 2] No such file or directory: 'C:\\\\Users\\\\emanu\\\\DesignOfAi\\\\8\\\\results\\\\random\\\\openaigym.episode_batch.5.21636.stats.json~'\n"
     ]
    },
    {
     "name": "stdout",
     "output_type": "stream",
     "text": [
      "Average reward:  200.0\n"
     ]
    }
   ],
   "source": [
    "# with network\n",
    "from gym.wrappers import Monitor\n",
    "from gym import wrappers\n",
    "\n",
    "\n",
    "env = gym.make('CartPole-v0')\n",
    "env = wrappers.Monitor(env, \"./results/networkCartPole\", force=True)\n",
    "obs = env.reset()\n",
    "\n",
    "obs = env.reset()\n",
    "eps_rew = 0.0\n",
    "eps_rewards = []\n",
    "for _ in range(10000):\n",
    "    action = action_network.action(obs)\n",
    "    \n",
    "    obs, reward,done, _ = env.step(action)\n",
    "    eps_rew += reward\n",
    "    env.render()\n",
    "    if done:\n",
    "        eps_rewards.append(eps_rew)\n",
    "        eps_rew = 0.0\n",
    "        env.reset()\n",
    "\n",
    "\n",
    "        \n",
    "print(\"Average reward: \", np.mean(eps_rewards))"
   ]
  },
  {
   "cell_type": "code",
   "execution_count": 22,
   "id": "5f7c4dd8",
   "metadata": {},
   "outputs": [
    {
     "name": "stdout",
     "output_type": "stream",
     "text": [
      "Average reward:  21.87308533916849\n"
     ]
    }
   ],
   "source": [
    "# random action\n",
    "from gym.wrappers import Monitor\n",
    "from gym import wrappers\n",
    "env = gym.make('CartPole-v0')\n",
    "env = wrappers.Monitor(env, \"./results/randomCartPole\", force=True)\n",
    "obs = env.reset()\n",
    "done = False\n",
    "eps_rew = 0.0\n",
    "eps_rewards = []\n",
    "for _ in range(10000):\n",
    "    action =  env.action_space.sample()\n",
    "    obs, reward,done, _ = env.step(action)\n",
    "    eps_rew += reward\n",
    "    env.render()\n",
    "    if done:\n",
    "        eps_rewards.append(eps_rew)\n",
    "        eps_rew = 0.0\n",
    "        env.reset()\n",
    "        \n",
    "print(\"Average reward: \", np.mean(eps_rewards))"
   ]
  },
  {
   "cell_type": "markdown",
   "id": "4ecd0422",
   "metadata": {},
   "source": [
    "## TEST AREA"
   ]
  },
  {
   "cell_type": "code",
   "execution_count": 25,
   "id": "0936c9c2",
   "metadata": {},
   "outputs": [],
   "source": [
    "test_of_new = LinModel()\n",
    "state_of_model = torch.load(\"./models/CartPoleLinear\")\n",
    "test_of_new.load_state_dict(state_of_model[\"model_state_dict\"])\n",
    "optimizer.load_state_dict(state_of_model['optimizer_state_dict'])"
   ]
  },
  {
   "cell_type": "code",
   "execution_count": null,
   "id": "791d3065",
   "metadata": {},
   "outputs": [],
   "source": [
    "# with network\n",
    "from gym.wrappers import Monitor\n",
    "from gym import wrappers\n",
    "\n",
    "\n",
    "env = gym.make('CartPole-v0')\n",
    "obs = env.reset()\n",
    "eps_rew = 0.0\n",
    "eps_rewards = []\n",
    "for _ in range(10000):\n",
    "    action = test_of_new.action(obs)\n",
    "    obs, reward,done, _ = env.step(action)\n",
    "    eps_rew += reward\n",
    "    env.render()\n",
    "    if done:\n",
    "        eps_rewards.append(eps_rew)\n",
    "        eps_rew = 0.0\n",
    "        env.reset()"
   ]
  },
  {
   "cell_type": "code",
   "execution_count": null,
   "id": "ff10d11d",
   "metadata": {},
   "outputs": [],
   "source": []
  }
 ],
 "metadata": {
  "kernelspec": {
   "display_name": "Python 3 (ipykernel)",
   "language": "python",
   "name": "python3"
  },
  "language_info": {
   "codemirror_mode": {
    "name": "ipython",
    "version": 3
   },
   "file_extension": ".py",
   "mimetype": "text/x-python",
   "name": "python",
   "nbconvert_exporter": "python",
   "pygments_lexer": "ipython3",
   "version": "3.9.13"
  }
 },
 "nbformat": 4,
 "nbformat_minor": 5
}
